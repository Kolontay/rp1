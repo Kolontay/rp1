{
 "cells": [
  {
   "cell_type": "code",
   "execution_count": 3,
   "metadata": {},
   "outputs": [
    {
     "name": "stdout",
     "output_type": "stream",
     "text": [
      "[1, 1, 2, 3, 3, 4, 5, 5, 5, 6, 6, 8, 8, 9, 9, 12, 15, 15, 21, 34, 42, 45, 65, 71, 81]\n",
      "325\n"
     ]
    }
   ],
   "source": [
    "'''no name sort'''\n",
    "a=[6,3,2,5,1,81,3,71,15,65,5,34,8,9,21,45,1,4,5,6,8,9,12,15,42]\n",
    "count=0\n",
    "for i in range(len(a)):\n",
    "    for j in range(i,len(a)):\n",
    "        count+=1\n",
    "        if a[j]<a[i]:\n",
    "            a[j],a[i]=a[i],a[j]\n",
    "print(a)\n",
    "print(count)"
   ]
  },
  {
   "cell_type": "code",
   "execution_count": 5,
   "metadata": {},
   "outputs": [
    {
     "name": "stdout",
     "output_type": "stream",
     "text": [
      "[1, 1, 2, 3, 3, 4, 5, 5, 5, 6, 6, 8, 8, 9, 9, 12, 15, 15, 21, 34, 42, 45, 65, 71, 81]\n"
     ]
    }
   ],
   "source": [
    "'''сортировка вставкой #1'''\n",
    "data=[6,3,2,5,1,81,3,71,15,65,5,34,8,9,21,45,1,4,5,6,8,9,12,15,42]\n",
    "for i in range(1,int(len(data))):\n",
    "    for j in range(i-1,-1,-1):\n",
    "        temp =data[j+1]\n",
    "        if temp<data[j]:\n",
    "            data[i]=data[j]\n",
    "            data[j]=temp\n",
    "            i-=1\n",
    "print(data)"
   ]
  },
  {
   "cell_type": "code",
   "execution_count": 4,
   "metadata": {},
   "outputs": [
    {
     "name": "stdout",
     "output_type": "stream",
     "text": [
      "[1, 1, 2, 3, 3, 4, 5, 5, 5, 6, 6, 8, 8, 9, 9, 12, 15, 15, 21, 34, 42, 45, 65, 71, 81]\n"
     ]
    }
   ],
   "source": [
    "'''сортировка вставкой #2'''\n",
    "data1 = [6,3,2,5,1,81,3,71,15,65,5,34,8,9,21,45,1,4,5,6,8,9,12,15,42]\n",
    "for i in range(int(len(data1))):\n",
    "    key=data1[i]\n",
    "    while key<data1[i-1]and i>=1:\n",
    "        data1[i]=data1[i-1]\n",
    "        i-=1\n",
    "        data1[i]=key\n",
    "print(data1)"
   ]
  },
  {
   "cell_type": "code",
   "execution_count": null,
   "metadata": {},
   "outputs": [],
   "source": [
    "a='Fuck off'"
   ]
  }
 ],
 "metadata": {
  "kernelspec": {
   "display_name": "Python 3 (ipykernel)",
   "language": "python",
   "name": "python3"
  },
  "orig_nbformat": 4,
  "vscode": {
   "interpreter": {
    "hash": "a5d6c2be6262c78dadbf075e7ed7eef3fc1090c1044fdcff36d11e01ba01e819"
   }
  }
 },
 "nbformat": 4,
 "nbformat_minor": 2
}
